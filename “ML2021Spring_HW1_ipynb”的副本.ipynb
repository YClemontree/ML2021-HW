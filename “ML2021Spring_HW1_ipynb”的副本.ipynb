{
  "nbformat": 4,
  "nbformat_minor": 0,
  "metadata": {
    "colab": {
      "name": "“ML2021Spring - HW1.ipynb”的副本",
      "provenance": [],
      "collapsed_sections": [],
      "include_colab_link": true
    },
    "kernelspec": {
      "name": "python3",
      "display_name": "Python 3"
    },
    "accelerator": "TPU"
  },
  "cells": [
    {
      "cell_type": "markdown",
      "metadata": {
        "id": "view-in-github",
        "colab_type": "text"
      },
      "source": [
        "<a href=\"https://colab.research.google.com/github/YClemontree/ML2021-HW/blob/main/%E2%80%9CML2021Spring_HW1_ipynb%E2%80%9D%E7%9A%84%E5%89%AF%E6%9C%AC.ipynb\" target=\"_parent\"><img src=\"https://colab.research.google.com/assets/colab-badge.svg\" alt=\"Open In Colab\"/></a>"
      ]
    },
    {
      "cell_type": "markdown",
      "metadata": {
        "id": "mz0_QVkxCrX3"
      },
      "source": [
        "# **Homework 1: COVID-19 Cases Prediction (Regression)**"
      ]
    },
    {
      "cell_type": "markdown",
      "metadata": {
        "id": "ZeZnPAiwDRWG"
      },
      "source": [
        "Author: Heng-Jui Chang\n",
        "\n",
        "Slides: https://github.com/ga642381/ML2021-Spring/blob/main/HW01/HW01.pdf  \n",
        "Videos (Mandarin): https://cool.ntu.edu.tw/courses/4793/modules/items/172854  \n",
        "https://cool.ntu.edu.tw/courses/4793/modules/items/172853  \n",
        "Video (English): https://cool.ntu.edu.tw/courses/4793/modules/items/176529\n",
        "\n",
        "\n",
        "Objectives:\n",
        "* Solve a regression problem with deep neural networks (DNN).\n",
        "* Understand basic DNN training tips.\n",
        "* Get familiar with PyTorch.\n",
        "\n",
        "If any questions, please contact the TAs via TA hours, NTU COOL, or email.\n"
      ]
    },
    {
      "cell_type": "markdown",
      "metadata": {
        "id": "Jx3x1nDkG-Uy"
      },
      "source": [
        "# **Download Data**\n",
        "\n",
        "\n",
        "If the Google drive links are dead, you can download data from [kaggle](https://www.kaggle.com/c/ml2021spring-hw1/data), and upload data manually to the workspace."
      ]
    },
    {
      "cell_type": "code",
      "metadata": {
        "colab": {
          "base_uri": "https://localhost:8080/"
        },
        "id": "tMj55YDKG6ch",
        "outputId": "f573b3c9-f66e-454d-a85c-d0494cfcc3d7"
      },
      "source": [
        "tr_path = 'covid.train.csv'  # path to training data\n",
        "tt_path = 'covid.test.csv'   # path to testing data\n",
        "\n",
        "!gdown --id '19CCyCgJrUxtvgZF53vnctJiOJ23T5mqF' --output covid.train.csv\n",
        "!gdown --id '1CE240jLm2npU-tdz81-oVKEF3T2yfT1O' --output covid.test.csv"
      ],
      "execution_count": 129,
      "outputs": [
        {
          "output_type": "stream",
          "text": [
            "Downloading...\n",
            "From: https://drive.google.com/uc?id=19CCyCgJrUxtvgZF53vnctJiOJ23T5mqF\n",
            "To: /content/covid.train.csv\n",
            "100% 2.00M/2.00M [00:00<00:00, 58.9MB/s]\n",
            "Downloading...\n",
            "From: https://drive.google.com/uc?id=1CE240jLm2npU-tdz81-oVKEF3T2yfT1O\n",
            "To: /content/covid.test.csv\n",
            "100% 651k/651k [00:00<00:00, 77.2MB/s]\n"
          ],
          "name": "stdout"
        }
      ]
    },
    {
      "cell_type": "markdown",
      "metadata": {
        "id": "wS_4-77xHk44"
      },
      "source": [
        "# **Import Some Packages**"
      ]
    },
    {
      "cell_type": "code",
      "metadata": {
        "id": "k-onQd4JNA5H"
      },
      "source": [
        "# PyTorch\n",
        "import torch\n",
        "import torch.nn as nn\n",
        "from torch.utils.data import Dataset, DataLoader\n",
        "\n",
        "# For data preprocess\n",
        "import numpy as np\n",
        "import csv\n",
        "import os\n",
        "\n",
        "# For plotting\n",
        "import matplotlib.pyplot as plt\n",
        "from matplotlib.pyplot import figure\n",
        "\n",
        "myseed = 2021810  # set a random seed for reproducibility\n",
        "torch.backends.cudnn.deterministic = True\n",
        "torch.backends.cudnn.benchmark = False\n",
        "np.random.seed(myseed)\n",
        "torch.manual_seed(myseed)\n",
        "if torch.cuda.is_available():\n",
        "    torch.cuda.manual_seed_all(myseed)"
      ],
      "execution_count": 130,
      "outputs": []
    },
    {
      "cell_type": "markdown",
      "metadata": {
        "id": "BtE3b6JEH7rw"
      },
      "source": [
        "# **Some Utilities**\n",
        "\n",
        "You do not need to modify this part."
      ]
    },
    {
      "cell_type": "code",
      "metadata": {
        "id": "FWMT3uf1NGQp"
      },
      "source": [
        "def get_device():\n",
        "    ''' Get device (if GPU is available, use GPU) '''\n",
        "    return 'cuda' if torch.cuda.is_available() else 'cpu'\n",
        "\n",
        "def plot_learning_curve(loss_record, title=''):\n",
        "    ''' Plot learning curve of your DNN (train & dev loss) '''\n",
        "    total_steps = len(loss_record['train'])\n",
        "    x_1 = range(total_steps)\n",
        "    x_2 = x_1[::len(loss_record['train']) // len(loss_record['dev'])]\n",
        "    figure(figsize=(6, 4))\n",
        "    plt.plot(x_1, loss_record['train'], c='tab:red', label='train')\n",
        "    plt.plot(x_2, loss_record['dev'], c='tab:cyan', label='dev')\n",
        "    plt.ylim(0.0, 5.)\n",
        "    plt.xlabel('Training steps')\n",
        "    plt.ylabel('MSE loss')\n",
        "    plt.title('Learning curve of {}'.format(title))\n",
        "    plt.legend()\n",
        "    plt.show()\n",
        "\n",
        "\n",
        "def plot_pred(dv_set, model, device, lim=35., preds=None, targets=None):\n",
        "    ''' Plot prediction of your DNN '''\n",
        "    if preds is None or targets is None:\n",
        "        model.eval()\n",
        "        preds, targets = [], []\n",
        "        for x, y in dv_set:\n",
        "            x, y = x.to(device), y.to(device)\n",
        "            with torch.no_grad():\n",
        "                pred = model(x)\n",
        "                preds.append(pred.detach().cpu())\n",
        "                targets.append(y.detach().cpu())\n",
        "        preds = torch.cat(preds, dim=0).numpy()\n",
        "        targets = torch.cat(targets, dim=0).numpy()\n",
        "\n",
        "    figure(figsize=(5, 5))\n",
        "    plt.scatter(targets, preds, c='r', alpha=0.5)\n",
        "    plt.plot([-0.2, lim], [-0.2, lim], c='b')\n",
        "    plt.xlim(-0.2, lim)\n",
        "    plt.ylim(-0.2, lim)\n",
        "    plt.xlabel('ground truth value')\n",
        "    plt.ylabel('predicted value')\n",
        "    plt.title('Ground Truth v.s. Prediction')\n",
        "    plt.show()"
      ],
      "execution_count": 131,
      "outputs": []
    },
    {
      "cell_type": "markdown",
      "metadata": {
        "id": "39U_XFX6KOoj"
      },
      "source": [
        "# **Preprocess**\n",
        "\n",
        "We have three kinds of datasets:\n",
        "* `train`: for training\n",
        "* `dev`: for validation\n",
        "* `test`: for testing (w/o target value)"
      ]
    },
    {
      "cell_type": "markdown",
      "metadata": {
        "id": "TQ-MdwpLL7Dt"
      },
      "source": [
        "## **Dataset**\n",
        "\n",
        "The `COVID19Dataset` below does:\n",
        "* read `.csv` files\n",
        "* extract features\n",
        "* split `covid.train.csv` into train/dev sets\n",
        "* normalize features\n",
        "\n",
        "Finishing `TODO` below might make you pass medium baseline."
      ]
    },
    {
      "cell_type": "code",
      "metadata": {
        "id": "0zlpIp9ANJRU"
      },
      "source": [
        "class COVID19Dataset(Dataset):\n",
        "    ''' Dataset for loading and preprocessing the COVID19 dataset '''\n",
        "    def __init__(self,\n",
        "                 path,\n",
        "                 mode='train',\n",
        "                 target_only=True):\n",
        "        self.mode = mode\n",
        "\n",
        "        # Read data into numpy arrays\n",
        "        with open(path, 'r') as fp:\n",
        "            data = list(csv.reader(fp))\n",
        "            data = np.array(data[1:])[:, 1:].astype(float)\n",
        "        \n",
        "        if not target_only:\n",
        "            feats = list(range(93))\n",
        "            # feats = list(range(1, 40)) + [57, 75]\n",
        "        else:\n",
        "            # TODO: Using 40 states & 2 tested_positive features (indices = 57 & 75)\n",
        "            # feats = list(range(1, 41)) + [57, 75]\n",
        "            # feats = [75, 57, 42, 60, 78, 43, 61, 79, 40, 58, 76, 41, 59, 77, 45, 85]\n",
        "            feats = [75, 57, 42, 60, 78, 43, 61, 79, 40, 58, 76, 41, 59, 77]\n",
        "        if mode == 'test':\n",
        "            # Testing data\n",
        "            # data: 893 x 93 (40 states + day 1 (18) + day 2 (18) + day 3 (17))\n",
        "            data = data[:, feats]\n",
        "            self.data = torch.FloatTensor(data)\n",
        "        else:\n",
        "            # Training data (train/dev sets)\n",
        "            # data: 2700 x 94 (40 states + day 1 (18) + day 2 (18) + day 3 (18))\n",
        "            target = data[:, -1]\n",
        "            data = data[:, feats]\n",
        "            \n",
        "            # Splitting training data into train & dev sets\n",
        "            if mode == 'train':\n",
        "                # indices = [i for i in range(len(data)) if i % 10 != 0]\n",
        "                indices = [i for i in range(len(data))]\n",
        "            elif mode == 'dev':\n",
        "                indices = [i for i in range(len(data)) if i % 10 == 0]\n",
        "            \n",
        "            # Convert data into PyTorch tensors\n",
        "            self.data = torch.FloatTensor(data[indices])\n",
        "            self.target = torch.FloatTensor(target[indices])\n",
        "\n",
        "        # Normalize features (you may remove this part to see what will happen)\n",
        "        self.data[:, 40:] = \\\n",
        "            (self.data[:, 40:] - self.data[:, 40:].mean(dim=0, keepdim=True)) \\\n",
        "            / self.data[:, 40:].std(dim=0, keepdim=True)\n",
        "\n",
        "        self.dim = self.data.shape[1]\n",
        "\n",
        "        print('Finished reading the {} set of COVID19 Dataset ({} samples found, each dim = {})'\n",
        "              .format(mode, len(self.data), self.dim))\n",
        "\n",
        "    def __getitem__(self, index):\n",
        "        # Returns one sample at a time\n",
        "        if self.mode in ['train', 'dev']:\n",
        "            # For training\n",
        "            return self.data[index], self.target[index]\n",
        "        else:\n",
        "            # For testing (no target)\n",
        "            return self.data[index]\n",
        "\n",
        "    def __len__(self):\n",
        "        # Returns the size of the dataset\n",
        "        return len(self.data)"
      ],
      "execution_count": 132,
      "outputs": []
    },
    {
      "cell_type": "markdown",
      "metadata": {
        "id": "AlhTlkE7MDo3"
      },
      "source": [
        "## **DataLoader**\n",
        "\n",
        "A `DataLoader` loads data from a given `Dataset` into batches.\n"
      ]
    },
    {
      "cell_type": "code",
      "metadata": {
        "id": "hlhLk5t6MBX3"
      },
      "source": [
        "def prep_dataloader(path, mode, batch_size, n_jobs=0, target_only=False):\n",
        "    ''' Generates a dataset, then is put into a dataloader. '''\n",
        "    dataset = COVID19Dataset(path, mode=mode, target_only=target_only)  # Construct dataset\n",
        "    dataloader = DataLoader(\n",
        "        dataset, batch_size,\n",
        "        shuffle=(mode == 'train'), drop_last=False,\n",
        "        num_workers=n_jobs, pin_memory=True)                            # Construct dataloader\n",
        "    return dataloader"
      ],
      "execution_count": 133,
      "outputs": []
    },
    {
      "cell_type": "markdown",
      "metadata": {
        "id": "SGuycwR0MeQB"
      },
      "source": [
        "# **Deep Neural Network**\n",
        "\n",
        "`NeuralNet` is an `nn.Module` designed for regression.\n",
        "The DNN consists of 2 fully-connected layers with ReLU activation.\n",
        "This module also included a function `cal_loss` for calculating loss.\n"
      ]
    },
    {
      "cell_type": "code",
      "metadata": {
        "id": "49-uXYovOAI0"
      },
      "source": [
        "class NeuralNet(nn.Module):\n",
        "    ''' A simple fully-connected deep neural network '''\n",
        "    def __init__(self, input_dim):\n",
        "        super(NeuralNet, self).__init__()\n",
        "\n",
        "        # Define your neural network here\n",
        "        # TODO: How to modify this model to achieve better performance?\n",
        "        self.net = nn.Sequential(\n",
        "            nn.Linear(input_dim, 32),\n",
        "            nn.LeakyReLU(),\n",
        "            #nn.Linear(32, 32),\n",
        "            #nn.LeakyReLU(),\n",
        "            #nn.Linear(32, 32),\n",
        "            #nn.LeakyReLU(),\n",
        "            nn.Linear(32, 1)\n",
        "        )\n",
        "\n",
        "        # Mean squared error loss\n",
        "        self.criterion = nn.MSELoss(reduction='mean')\n",
        "        #self.criterion = nn.SmoothL1Loss(size_average=True)\n",
        "\n",
        "    def forward(self, x):\n",
        "        ''' Given input of size (batch_size x input_dim), compute output of the network '''\n",
        "        return self.net(x).squeeze(1)\n",
        "\n",
        "    def cal_loss(self, pred, target):\n",
        "        ''' Calculate loss '''\n",
        "        regularization_loss = 0\n",
        "        for param in model.parameters():\n",
        "         # regularization_loss += torch.sum(abs(param))\n",
        "         regularization_loss += torch.sum(param ** 2)\n",
        "        # TODO: you may implement L1/L2 regularization here\n",
        "        return self.criterion(pred, target) + 0.0005 * regularization_loss"
      ],
      "execution_count": 134,
      "outputs": []
    },
    {
      "cell_type": "markdown",
      "metadata": {
        "id": "DvFWVjZ5Nvga"
      },
      "source": [
        "# **Train/Dev/Test**"
      ]
    },
    {
      "cell_type": "markdown",
      "metadata": {
        "id": "MAM8QecJOyqn"
      },
      "source": [
        "## **Training**"
      ]
    },
    {
      "cell_type": "code",
      "metadata": {
        "id": "lOqcmYzMO7jB"
      },
      "source": [
        "def train(tr_set, dv_set, model, config, device):\n",
        "    ''' DNN training '''\n",
        "\n",
        "    n_epochs = config['n_epochs']  # Maximum number of epochs\n",
        "\n",
        "    # Setup optimizer\n",
        "    optimizer = getattr(torch.optim, config['optimizer'])(\n",
        "        model.parameters(), **config['optim_hparas'])\n",
        "\n",
        "    min_mse = 1000.\n",
        "    loss_record = {'train': [], 'dev': []}      # for recording training loss\n",
        "    early_stop_cnt = 0\n",
        "    epoch = 0\n",
        "    while epoch < n_epochs:\n",
        "        model.train()                           # set model to training mode\n",
        "        for x, y in tr_set:                     # iterate through the dataloader\n",
        "            optimizer.zero_grad()               # set gradient to zero\n",
        "            x, y = x.to(device), y.to(device)   # move data to device (cpu/cuda)\n",
        "            pred = model(x)                     # forward pass (compute output)\n",
        "            mse_loss = model.cal_loss(pred, y)  # compute loss\n",
        "            mse_loss.backward()                 # compute gradient (backpropagation)\n",
        "            optimizer.step()                    # update model with optimizer\n",
        "            loss_record['train'].append(mse_loss.detach().cpu().item())\n",
        "\n",
        "        # After each epoch, test your model on the validation (development) set.\n",
        "        dev_mse = dev(dv_set, model, device)\n",
        "        if dev_mse < min_mse:\n",
        "            # Save model if your model improved\n",
        "            min_mse = dev_mse\n",
        "            print('Saving model (epoch = {:4d}, loss = {:.4f})'\n",
        "                .format(epoch + 1, min_mse))\n",
        "            torch.save(model.state_dict(), config['save_path'])  # Save model to specified path\n",
        "            early_stop_cnt = 0\n",
        "        else:\n",
        "            early_stop_cnt += 1\n",
        "\n",
        "        epoch += 1\n",
        "        loss_record['dev'].append(dev_mse)\n",
        "        if early_stop_cnt > config['early_stop']:\n",
        "            # Stop training if your model stops improving for \"config['early_stop']\" epochs.\n",
        "            break\n",
        "\n",
        "    print('Finished training after {} epochs'.format(epoch))\n",
        "    return min_mse, loss_record"
      ],
      "execution_count": 135,
      "outputs": []
    },
    {
      "cell_type": "markdown",
      "metadata": {
        "id": "0hSd4Bn3O2PL"
      },
      "source": [
        "## **Validation**"
      ]
    },
    {
      "cell_type": "code",
      "metadata": {
        "id": "yrxrD3YsN3U2"
      },
      "source": [
        "def dev(dv_set, model, device):\n",
        "    model.eval()                                # set model to evalutation mode\n",
        "    total_loss = 0\n",
        "    for x, y in dv_set:                         # iterate through the dataloader\n",
        "        x, y = x.to(device), y.to(device)       # move data to device (cpu/cuda)\n",
        "        with torch.no_grad():                   # disable gradient calculation\n",
        "            pred = model(x)                     # forward pass (compute output)\n",
        "            mse_loss = model.cal_loss(pred, y)  # compute loss\n",
        "        total_loss += mse_loss.detach().cpu().item() * len(x)  # accumulate loss\n",
        "    total_loss = total_loss / len(dv_set.dataset)              # compute averaged loss\n",
        "\n",
        "    return total_loss"
      ],
      "execution_count": 136,
      "outputs": []
    },
    {
      "cell_type": "markdown",
      "metadata": {
        "id": "g0pdrhQAO41L"
      },
      "source": [
        "## **Testing**"
      ]
    },
    {
      "cell_type": "code",
      "metadata": {
        "id": "aSBMRFlYN5tB"
      },
      "source": [
        "def test(tt_set, model, device):\n",
        "    model.eval()                                # set model to evalutation mode\n",
        "    preds = []\n",
        "    for x in tt_set:                            # iterate through the dataloader\n",
        "        x = x.to(device)                        # move data to device (cpu/cuda)\n",
        "        with torch.no_grad():                   # disable gradient calculation\n",
        "            pred = model(x)                     # forward pass (compute output)\n",
        "            preds.append(pred.detach().cpu())   # collect prediction\n",
        "    preds = torch.cat(preds, dim=0).numpy()     # concatenate all predictions and convert to a numpy array\n",
        "    return preds"
      ],
      "execution_count": 137,
      "outputs": []
    },
    {
      "cell_type": "markdown",
      "metadata": {
        "id": "SvckkF5dvf0j"
      },
      "source": [
        "# **Setup Hyper-parameters**\n",
        "\n",
        "`config` contains hyper-parameters for training and the path to save your model."
      ]
    },
    {
      "cell_type": "code",
      "metadata": {
        "id": "NPXpdumwPjE7"
      },
      "source": [
        "device = get_device()                 # get the current available device ('cpu' or 'cuda')\n",
        "os.makedirs('models', exist_ok=True)  # The trained model will be saved to ./models/\n",
        "target_only = True                   # TODO: Using 40 states & 2 tested_positive features\n",
        "\n",
        "# TODO: How to tune these hyper-parameters to improve your model's performance?\n",
        "config = {\n",
        "    'n_epochs': 10000,                # maximum number of epochs\n",
        "    'batch_size': 30,               # mini-batch size for dataloader\n",
        "    'optimizer': 'Adam',              # optimization algorithm (optimizer in torch.optim)\n",
        "    'optim_hparas': {                # hyper-parameters for the optimizer (depends on which optimizer you are using)\n",
        "        'lr': 0.0001,                 # learning rate of SGD\n",
        "        #'momentum': 0.9,              # momentum for SGD\n",
        "        #'weight_decay': 5e-4,\n",
        "    },\n",
        "    'early_stop': 1000,               # early stopping epochs (the number epochs since your model's last improvement)\n",
        "    'save_path': 'models/model.pth'  # your model will be saved here\n",
        "}"
      ],
      "execution_count": 138,
      "outputs": []
    },
    {
      "cell_type": "markdown",
      "metadata": {
        "id": "6j1eOV3TOH-j"
      },
      "source": [
        "# **Load data and model**"
      ]
    },
    {
      "cell_type": "code",
      "metadata": {
        "colab": {
          "base_uri": "https://localhost:8080/"
        },
        "id": "eNrYBMmePLKm",
        "outputId": "36a0fd9f-0923-434a-ff99-afa1eaa755d4"
      },
      "source": [
        "tr_set = prep_dataloader(tr_path, 'train', config['batch_size'], target_only=target_only)\n",
        "dv_set = prep_dataloader(tr_path, 'dev', config['batch_size'], target_only=target_only)\n",
        "tt_set = prep_dataloader(tt_path, 'test', config['batch_size'], target_only=target_only)"
      ],
      "execution_count": 139,
      "outputs": [
        {
          "output_type": "stream",
          "text": [
            "Finished reading the train set of COVID19 Dataset (2700 samples found, each dim = 14)\n",
            "Finished reading the dev set of COVID19 Dataset (270 samples found, each dim = 14)\n",
            "Finished reading the test set of COVID19 Dataset (893 samples found, each dim = 14)\n"
          ],
          "name": "stdout"
        }
      ]
    },
    {
      "cell_type": "code",
      "metadata": {
        "id": "FHylSirLP9oh"
      },
      "source": [
        "model = NeuralNet(tr_set.dataset.dim).to(device)  # Construct model and move to device"
      ],
      "execution_count": 140,
      "outputs": []
    },
    {
      "cell_type": "markdown",
      "metadata": {
        "id": "sX2B_zgSOPTJ"
      },
      "source": [
        "# **Start Training!**"
      ]
    },
    {
      "cell_type": "code",
      "metadata": {
        "colab": {
          "base_uri": "https://localhost:8080/"
        },
        "id": "GrEbUxazQAAZ",
        "outputId": "f00f6892-f430-45dd-af9a-c21ecb84fbf2"
      },
      "source": [
        "model_loss, model_loss_record = train(tr_set, dv_set, model, config, device)"
      ],
      "execution_count": 141,
      "outputs": [
        {
          "output_type": "stream",
          "text": [
            "Saving model (epoch =    1, loss = 183.5514)\n",
            "Saving model (epoch =    2, loss = 81.2728)\n",
            "Saving model (epoch =    3, loss = 30.5035)\n",
            "Saving model (epoch =    4, loss = 16.0756)\n",
            "Saving model (epoch =    5, loss = 12.6576)\n",
            "Saving model (epoch =    6, loss = 10.9027)\n",
            "Saving model (epoch =    7, loss = 10.3237)\n",
            "Saving model (epoch =    8, loss = 9.7873)\n",
            "Saving model (epoch =    9, loss = 9.3068)\n",
            "Saving model (epoch =   10, loss = 8.8306)\n",
            "Saving model (epoch =   11, loss = 8.3797)\n",
            "Saving model (epoch =   12, loss = 7.9256)\n",
            "Saving model (epoch =   13, loss = 7.4911)\n",
            "Saving model (epoch =   14, loss = 7.0542)\n",
            "Saving model (epoch =   15, loss = 6.6323)\n",
            "Saving model (epoch =   16, loss = 6.2003)\n",
            "Saving model (epoch =   17, loss = 5.8037)\n",
            "Saving model (epoch =   18, loss = 5.3986)\n",
            "Saving model (epoch =   19, loss = 5.0234)\n",
            "Saving model (epoch =   20, loss = 4.6652)\n",
            "Saving model (epoch =   21, loss = 4.3144)\n",
            "Saving model (epoch =   22, loss = 3.9908)\n",
            "Saving model (epoch =   23, loss = 3.6862)\n",
            "Saving model (epoch =   24, loss = 3.4035)\n",
            "Saving model (epoch =   25, loss = 3.1225)\n",
            "Saving model (epoch =   26, loss = 2.8968)\n",
            "Saving model (epoch =   27, loss = 2.6689)\n",
            "Saving model (epoch =   28, loss = 2.4654)\n",
            "Saving model (epoch =   29, loss = 2.3131)\n",
            "Saving model (epoch =   30, loss = 2.1878)\n",
            "Saving model (epoch =   31, loss = 2.0557)\n",
            "Saving model (epoch =   32, loss = 1.9852)\n",
            "Saving model (epoch =   33, loss = 1.8695)\n",
            "Saving model (epoch =   34, loss = 1.8009)\n",
            "Saving model (epoch =   35, loss = 1.7412)\n",
            "Saving model (epoch =   36, loss = 1.6984)\n",
            "Saving model (epoch =   37, loss = 1.6431)\n",
            "Saving model (epoch =   38, loss = 1.6094)\n",
            "Saving model (epoch =   39, loss = 1.5911)\n",
            "Saving model (epoch =   40, loss = 1.5635)\n",
            "Saving model (epoch =   41, loss = 1.5500)\n",
            "Saving model (epoch =   42, loss = 1.5183)\n",
            "Saving model (epoch =   43, loss = 1.5152)\n",
            "Saving model (epoch =   44, loss = 1.5081)\n",
            "Saving model (epoch =   46, loss = 1.4992)\n",
            "Saving model (epoch =   47, loss = 1.4637)\n",
            "Saving model (epoch =   49, loss = 1.4516)\n",
            "Saving model (epoch =   50, loss = 1.4297)\n",
            "Saving model (epoch =   53, loss = 1.4165)\n",
            "Saving model (epoch =   55, loss = 1.4069)\n",
            "Saving model (epoch =   56, loss = 1.3884)\n",
            "Saving model (epoch =   57, loss = 1.3827)\n",
            "Saving model (epoch =   61, loss = 1.3741)\n",
            "Saving model (epoch =   62, loss = 1.3611)\n",
            "Saving model (epoch =   64, loss = 1.3416)\n",
            "Saving model (epoch =   67, loss = 1.3210)\n",
            "Saving model (epoch =   69, loss = 1.3085)\n",
            "Saving model (epoch =   71, loss = 1.2970)\n",
            "Saving model (epoch =   73, loss = 1.2865)\n",
            "Saving model (epoch =   75, loss = 1.2784)\n",
            "Saving model (epoch =   77, loss = 1.2710)\n",
            "Saving model (epoch =   80, loss = 1.2505)\n",
            "Saving model (epoch =   82, loss = 1.2429)\n",
            "Saving model (epoch =   86, loss = 1.2241)\n",
            "Saving model (epoch =   88, loss = 1.2219)\n",
            "Saving model (epoch =   90, loss = 1.2069)\n",
            "Saving model (epoch =   94, loss = 1.1949)\n",
            "Saving model (epoch =   95, loss = 1.1875)\n",
            "Saving model (epoch =   96, loss = 1.1815)\n",
            "Saving model (epoch =   97, loss = 1.1777)\n",
            "Saving model (epoch =   99, loss = 1.1728)\n",
            "Saving model (epoch =  103, loss = 1.1615)\n",
            "Saving model (epoch =  104, loss = 1.1511)\n",
            "Saving model (epoch =  106, loss = 1.1467)\n",
            "Saving model (epoch =  107, loss = 1.1425)\n",
            "Saving model (epoch =  108, loss = 1.1391)\n",
            "Saving model (epoch =  110, loss = 1.1299)\n",
            "Saving model (epoch =  111, loss = 1.1255)\n",
            "Saving model (epoch =  113, loss = 1.1177)\n",
            "Saving model (epoch =  118, loss = 1.1148)\n",
            "Saving model (epoch =  120, loss = 1.1092)\n",
            "Saving model (epoch =  121, loss = 1.1018)\n",
            "Saving model (epoch =  123, loss = 1.0865)\n",
            "Saving model (epoch =  124, loss = 1.0839)\n",
            "Saving model (epoch =  128, loss = 1.0802)\n",
            "Saving model (epoch =  129, loss = 1.0705)\n",
            "Saving model (epoch =  132, loss = 1.0652)\n",
            "Saving model (epoch =  133, loss = 1.0616)\n",
            "Saving model (epoch =  137, loss = 1.0472)\n",
            "Saving model (epoch =  139, loss = 1.0438)\n",
            "Saving model (epoch =  140, loss = 1.0400)\n",
            "Saving model (epoch =  144, loss = 1.0314)\n",
            "Saving model (epoch =  145, loss = 1.0277)\n",
            "Saving model (epoch =  147, loss = 1.0260)\n",
            "Saving model (epoch =  150, loss = 1.0193)\n",
            "Saving model (epoch =  152, loss = 1.0116)\n",
            "Saving model (epoch =  155, loss = 1.0043)\n",
            "Saving model (epoch =  158, loss = 0.9982)\n",
            "Saving model (epoch =  161, loss = 0.9961)\n",
            "Saving model (epoch =  163, loss = 0.9889)\n",
            "Saving model (epoch =  165, loss = 0.9837)\n",
            "Saving model (epoch =  168, loss = 0.9777)\n",
            "Saving model (epoch =  169, loss = 0.9760)\n",
            "Saving model (epoch =  171, loss = 0.9721)\n",
            "Saving model (epoch =  176, loss = 0.9648)\n",
            "Saving model (epoch =  177, loss = 0.9616)\n",
            "Saving model (epoch =  179, loss = 0.9580)\n",
            "Saving model (epoch =  182, loss = 0.9548)\n",
            "Saving model (epoch =  184, loss = 0.9503)\n",
            "Saving model (epoch =  186, loss = 0.9484)\n",
            "Saving model (epoch =  188, loss = 0.9446)\n",
            "Saving model (epoch =  190, loss = 0.9407)\n",
            "Saving model (epoch =  192, loss = 0.9376)\n",
            "Saving model (epoch =  194, loss = 0.9345)\n",
            "Saving model (epoch =  197, loss = 0.9309)\n",
            "Saving model (epoch =  199, loss = 0.9276)\n",
            "Saving model (epoch =  202, loss = 0.9241)\n",
            "Saving model (epoch =  206, loss = 0.9179)\n",
            "Saving model (epoch =  208, loss = 0.9170)\n",
            "Saving model (epoch =  209, loss = 0.9133)\n",
            "Saving model (epoch =  213, loss = 0.9084)\n",
            "Saving model (epoch =  217, loss = 0.9077)\n",
            "Saving model (epoch =  221, loss = 0.9040)\n",
            "Saving model (epoch =  223, loss = 0.8971)\n",
            "Saving model (epoch =  226, loss = 0.8941)\n",
            "Saving model (epoch =  228, loss = 0.8924)\n",
            "Saving model (epoch =  232, loss = 0.8873)\n",
            "Saving model (epoch =  238, loss = 0.8837)\n",
            "Saving model (epoch =  239, loss = 0.8811)\n",
            "Saving model (epoch =  241, loss = 0.8810)\n",
            "Saving model (epoch =  245, loss = 0.8758)\n",
            "Saving model (epoch =  247, loss = 0.8744)\n",
            "Saving model (epoch =  256, loss = 0.8660)\n",
            "Saving model (epoch =  258, loss = 0.8644)\n",
            "Saving model (epoch =  261, loss = 0.8631)\n",
            "Saving model (epoch =  265, loss = 0.8588)\n",
            "Saving model (epoch =  270, loss = 0.8552)\n",
            "Saving model (epoch =  275, loss = 0.8520)\n",
            "Saving model (epoch =  279, loss = 0.8503)\n",
            "Saving model (epoch =  286, loss = 0.8476)\n",
            "Saving model (epoch =  287, loss = 0.8462)\n",
            "Saving model (epoch =  289, loss = 0.8428)\n",
            "Saving model (epoch =  296, loss = 0.8390)\n",
            "Saving model (epoch =  301, loss = 0.8363)\n",
            "Saving model (epoch =  309, loss = 0.8325)\n",
            "Saving model (epoch =  314, loss = 0.8321)\n",
            "Saving model (epoch =  316, loss = 0.8289)\n",
            "Saving model (epoch =  319, loss = 0.8276)\n",
            "Saving model (epoch =  323, loss = 0.8261)\n",
            "Saving model (epoch =  324, loss = 0.8260)\n",
            "Saving model (epoch =  326, loss = 0.8245)\n",
            "Saving model (epoch =  330, loss = 0.8228)\n",
            "Saving model (epoch =  337, loss = 0.8221)\n",
            "Saving model (epoch =  338, loss = 0.8219)\n",
            "Saving model (epoch =  344, loss = 0.8192)\n",
            "Saving model (epoch =  352, loss = 0.8170)\n",
            "Saving model (epoch =  356, loss = 0.8151)\n",
            "Saving model (epoch =  357, loss = 0.8143)\n",
            "Saving model (epoch =  364, loss = 0.8124)\n",
            "Saving model (epoch =  365, loss = 0.8117)\n",
            "Saving model (epoch =  369, loss = 0.8113)\n",
            "Saving model (epoch =  373, loss = 0.8099)\n",
            "Saving model (epoch =  376, loss = 0.8096)\n",
            "Saving model (epoch =  386, loss = 0.8067)\n",
            "Saving model (epoch =  389, loss = 0.8066)\n",
            "Saving model (epoch =  393, loss = 0.8053)\n",
            "Saving model (epoch =  399, loss = 0.8043)\n",
            "Saving model (epoch =  407, loss = 0.8036)\n",
            "Saving model (epoch =  416, loss = 0.8018)\n",
            "Saving model (epoch =  425, loss = 0.8005)\n",
            "Saving model (epoch =  426, loss = 0.7996)\n",
            "Saving model (epoch =  431, loss = 0.7993)\n",
            "Saving model (epoch =  436, loss = 0.7981)\n",
            "Saving model (epoch =  445, loss = 0.7975)\n",
            "Saving model (epoch =  454, loss = 0.7967)\n",
            "Saving model (epoch =  463, loss = 0.7965)\n",
            "Saving model (epoch =  466, loss = 0.7963)\n",
            "Saving model (epoch =  470, loss = 0.7944)\n",
            "Saving model (epoch =  479, loss = 0.7931)\n",
            "Saving model (epoch =  482, loss = 0.7928)\n",
            "Saving model (epoch =  484, loss = 0.7927)\n",
            "Saving model (epoch =  493, loss = 0.7922)\n",
            "Saving model (epoch =  508, loss = 0.7904)\n",
            "Saving model (epoch =  518, loss = 0.7901)\n",
            "Saving model (epoch =  534, loss = 0.7894)\n",
            "Saving model (epoch =  543, loss = 0.7882)\n",
            "Saving model (epoch =  556, loss = 0.7877)\n",
            "Saving model (epoch =  567, loss = 0.7869)\n",
            "Saving model (epoch =  574, loss = 0.7868)\n",
            "Saving model (epoch =  576, loss = 0.7867)\n",
            "Saving model (epoch =  602, loss = 0.7861)\n",
            "Saving model (epoch =  609, loss = 0.7855)\n",
            "Saving model (epoch =  626, loss = 0.7854)\n",
            "Saving model (epoch =  627, loss = 0.7853)\n",
            "Saving model (epoch =  641, loss = 0.7843)\n",
            "Saving model (epoch =  654, loss = 0.7839)\n",
            "Saving model (epoch =  672, loss = 0.7839)\n",
            "Saving model (epoch =  696, loss = 0.7832)\n",
            "Saving model (epoch =  721, loss = 0.7828)\n",
            "Saving model (epoch =  766, loss = 0.7827)\n",
            "Saving model (epoch =  778, loss = 0.7827)\n",
            "Saving model (epoch =  793, loss = 0.7826)\n",
            "Saving model (epoch =  824, loss = 0.7822)\n",
            "Saving model (epoch =  836, loss = 0.7820)\n",
            "Saving model (epoch =  876, loss = 0.7819)\n",
            "Saving model (epoch =  913, loss = 0.7818)\n",
            "Saving model (epoch =  948, loss = 0.7815)\n",
            "Saving model (epoch = 1166, loss = 0.7814)\n",
            "Saving model (epoch = 1177, loss = 0.7813)\n",
            "Finished training after 2178 epochs\n"
          ],
          "name": "stdout"
        }
      ]
    },
    {
      "cell_type": "code",
      "metadata": {
        "colab": {
          "base_uri": "https://localhost:8080/",
          "height": 295
        },
        "id": "hsNO9nnXQBvP",
        "outputId": "929ce9c0-d22c-4103-cbbc-447a2dd0df0c"
      },
      "source": [
        "plot_learning_curve(model_loss_record, title='deep model')"
      ],
      "execution_count": 142,
      "outputs": [
        {
          "output_type": "display_data",
          "data": {
            "image/png": "[encoded data removed]",
            "text/plain": [
              "<Figure size 432x288 with 1 Axes>"
            ]
          },
          "metadata": {
            "tags": [],
            "needs_background": "light"
          }
        }
      ]
    },
    {
      "cell_type": "code",
      "metadata": {
        "colab": {
          "base_uri": "https://localhost:8080/",
          "height": 350
        },
        "id": "3iZTVn5WQFpX",
        "outputId": "30b9fefc-f227-4bd0-840a-75da238aea9c"
      },
      "source": [
        "del model\n",
        "model = NeuralNet(tr_set.dataset.dim).to(device)\n",
        "ckpt = torch.load(config['save_path'], map_location='cpu')  # Load your best model\n",
        "model.load_state_dict(ckpt)\n",
        "plot_pred(dv_set, model, device)  # Show prediction on the validation set"
      ],
      "execution_count": 143,
      "outputs": [
        {
          "output_type": "display_data",
          "data": {
            "image/png": "[encoded data removed]",
            "text/plain": [
              "<Figure size 360x360 with 1 Axes>"
            ]
          },
          "metadata": {
            "tags": [],
            "needs_background": "light"
          }
        }
      ]
    },
    {
      "cell_type": "markdown",
      "metadata": {
        "id": "aQikz3IPiyPf"
      },
      "source": [
        "# **Testing**\n",
        "The predictions of your model on testing set will be stored at `pred.csv`."
      ]
    },
    {
      "cell_type": "code",
      "metadata": {
        "colab": {
          "base_uri": "https://localhost:8080/"
        },
        "id": "O8cTuQjQQOon",
        "outputId": "2ce44ab1-9ca5-4b4f-ea76-cfce83fe1753"
      },
      "source": [
        "def save_pred(preds, file):\n",
        "    ''' Save predictions to specified file '''\n",
        "    print('Saving results to {}'.format(file))\n",
        "    with open(file, 'w') as fp:\n",
        "        writer = csv.writer(fp)\n",
        "        writer.writerow(['id', 'tested_positive'])\n",
        "        for i, p in enumerate(preds):\n",
        "            writer.writerow([i, p])\n",
        "\n",
        "preds = test(tt_set, model, device)  # predict COVID-19 cases with your model\n",
        "save_pred(preds, 'pred.csv')         # save prediction file to pred.csv"
      ],
      "execution_count": 144,
      "outputs": [
        {
          "output_type": "stream",
          "text": [
            "Saving results to pred.csv\n"
          ],
          "name": "stdout"
        }
      ]
    },
    {
      "cell_type": "markdown",
      "metadata": {
        "id": "nfrVxqJanGpE"
      },
      "source": [
        "# **Hints**\n",
        "\n",
        "## **Simple Baseline**\n",
        "* Run sample code\n",
        "\n",
        "## **Medium Baseline**\n",
        "* Feature selection: 40 states + 2 `tested_positive` (`TODO` in dataset)\n",
        "\n",
        "## **Strong Baseline**\n",
        "* Feature selection (what other features are useful?)\n",
        "* DNN architecture (layers? dimension? activation function?)\n",
        "* Training (mini-batch? optimizer? learning rate?)\n",
        "* L2 regularization\n",
        "* There are some mistakes in the sample code, can you find them?"
      ]
    },
    {
      "cell_type": "markdown",
      "metadata": {
        "id": "9tmCwXgpot3t"
      },
      "source": [
        "# **Reference**\n",
        "This code is completely written by Heng-Jui Chang @ NTUEE.  \n",
        "Copying or reusing this code is required to specify the original author. \n",
        "\n",
        "E.g.  \n",
        "Source: Heng-Jui Chang @ NTUEE (https://github.com/ga642381/ML2021-Spring/blob/main/HW01/HW01.ipynb)\n"
      ]
    }
  ]
}